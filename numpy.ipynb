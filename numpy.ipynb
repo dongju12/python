{
  "nbformat": 4,
  "nbformat_minor": 0,
  "metadata": {
    "colab": {
      "name": "numpy.ipynb",
      "provenance": [],
      "collapsed_sections": [],
      "authorship_tag": "ABX9TyOMQQnTg2coqrmEAbCQvAkg",
      "include_colab_link": true
    },
    "kernelspec": {
      "name": "python3",
      "display_name": "Python 3"
    },
    "language_info": {
      "name": "python"
    }
  },
  "cells": [
    {
      "cell_type": "markdown",
      "metadata": {
        "id": "view-in-github",
        "colab_type": "text"
      },
      "source": [
        "<a href=\"https://colab.research.google.com/github/dongju12/python/blob/main/numpy.ipynb\" target=\"_parent\"><img src=\"https://colab.research.google.com/assets/colab-badge.svg\" alt=\"Open In Colab\"/></a>"
      ]
    },
    {
      "cell_type": "code",
      "execution_count": 6,
      "metadata": {
        "colab": {
          "base_uri": "https://localhost:8080/"
        },
        "id": "g2bw1mBhME-e",
        "outputId": "65be5614-848f-49f4-e8e2-b351b0130453"
      },
      "outputs": [
        {
          "output_type": "stream",
          "name": "stdout",
          "text": [
            "3\n"
          ]
        }
      ],
      "source": [
        "import numpy as np\n",
        "\n",
        "list_data = [1 ,2 ,3]\n",
        "array = np.array(list_data)\n",
        "\n",
        "print(array.size)"
      ]
    },
    {
      "cell_type": "code",
      "source": [
        "array1 = np.arange(4)\n",
        "print(array1)"
      ],
      "metadata": {
        "colab": {
          "base_uri": "https://localhost:8080/"
        },
        "id": "OjmfuFkQEzp5",
        "outputId": "bb4ac846-1bbe-4871-f678-3fc144e75ce0"
      },
      "execution_count": 9,
      "outputs": [
        {
          "output_type": "stream",
          "name": "stdout",
          "text": [
            "[0 1 2 3]\n"
          ]
        }
      ]
    },
    {
      "cell_type": "code",
      "source": [
        "array2 = np.zeros((4, 4),dtype=float)\n",
        "print(array2)"
      ],
      "metadata": {
        "colab": {
          "base_uri": "https://localhost:8080/"
        },
        "id": "LgOKuVOXFFbd",
        "outputId": "b7183b6e-6d80-4aac-e10f-4cda137e214e"
      },
      "execution_count": 13,
      "outputs": [
        {
          "output_type": "stream",
          "name": "stdout",
          "text": [
            "[[0. 0. 0. 0.]\n",
            " [0. 0. 0. 0.]\n",
            " [0. 0. 0. 0.]\n",
            " [0. 0. 0. 0.]]\n"
          ]
        }
      ]
    },
    {
      "cell_type": "code",
      "source": [
        "array3 = np.ones((3,3),dtype=str)\n",
        "print(array3)"
      ],
      "metadata": {
        "colab": {
          "base_uri": "https://localhost:8080/"
        },
        "id": "sQRo8qIlFV8B",
        "outputId": "fad0827e-ccc0-4a3c-e584-71ed1696f2c7"
      },
      "execution_count": 16,
      "outputs": [
        {
          "output_type": "stream",
          "name": "stdout",
          "text": [
            "[['1' '1' '1']\n",
            " ['1' '1' '1']\n",
            " ['1' '1' '1']]\n"
          ]
        }
      ]
    },
    {
      "cell_type": "code",
      "source": [
        "array4 = np.random.randint(0, 10, (3, 3)) #랜덤\n",
        "print(array4)"
      ],
      "metadata": {
        "colab": {
          "base_uri": "https://localhost:8080/"
        },
        "id": "uU9NfKM1Flzv",
        "outputId": "ac28fc3b-61df-4110-8221-f8474ea03e5e"
      },
      "execution_count": 19,
      "outputs": [
        {
          "output_type": "stream",
          "name": "stdout",
          "text": [
            "[[0 0 3]\n",
            " [4 5 9]\n",
            " [4 8 5]]\n"
          ]
        }
      ]
    },
    {
      "cell_type": "code",
      "source": [
        "#평균 0 표준편차 1\n",
        "array5 = np.random.normal(0, 1,(3, 3))\n",
        "print(array5)"
      ],
      "metadata": {
        "colab": {
          "base_uri": "https://localhost:8080/"
        },
        "id": "6SXWcvoNFv-C",
        "outputId": "ecd1d6de-0061-4829-a062-34727d8facc9"
      },
      "execution_count": 23,
      "outputs": [
        {
          "output_type": "stream",
          "name": "stdout",
          "text": [
            "[[ 1.31247002  0.8505425   0.78757342]\n",
            " [ 1.47628462  0.85510524  0.49921879]\n",
            " [ 0.87943766 -0.24777911 -0.30460047]]\n"
          ]
        }
      ]
    },
    {
      "cell_type": "code",
      "source": [
        "ar1 = np.array([1, 2, 3])\n",
        "ar2 = np.array([4, 5, 6])\n",
        "ar3 = np.concatenate([ar1, ar2])\n",
        "\n",
        "print(ar3)"
      ],
      "metadata": {
        "colab": {
          "base_uri": "https://localhost:8080/"
        },
        "id": "mZXJWyCRFtGJ",
        "outputId": "818b7876-30ed-4a05-f542-30d21840d332"
      },
      "execution_count": 26,
      "outputs": [
        {
          "output_type": "stream",
          "name": "stdout",
          "text": [
            "[1 2 3 4 5 6]\n"
          ]
        }
      ]
    },
    {
      "cell_type": "code",
      "source": [
        "ar4 = np.array([1, 2, 3, 4])\n",
        "ar5 = ar4.reshape((2, 2))\n",
        "\n",
        "print(ar5)"
      ],
      "metadata": {
        "colab": {
          "base_uri": "https://localhost:8080/"
        },
        "id": "J38tUlFyGftk",
        "outputId": "f55e0586-f3bd-484f-e2c2-9d73902a248f"
      },
      "execution_count": 28,
      "outputs": [
        {
          "output_type": "stream",
          "name": "stdout",
          "text": [
            "[[1 2]\n",
            " [3 4]]\n"
          ]
        }
      ]
    },
    {
      "cell_type": "code",
      "source": [
        ""
      ],
      "metadata": {
        "id": "GiuvW5PoHM0C"
      },
      "execution_count": null,
      "outputs": []
    },
    {
      "cell_type": "code",
      "source": [
        "ar6 = np.arange(4).reshape(1, 4)\n",
        "ar7 = np.arange(8).reshape(2, 4)\n",
        "\n",
        "print(ar6)\n",
        "print(ar7)\n",
        "\n",
        "ar8 = np.concatenate([ar6, ar7], axis=0)\n",
        "print(ar8)\n"
      ],
      "metadata": {
        "colab": {
          "base_uri": "https://localhost:8080/"
        },
        "id": "z3d69ScVG0sL",
        "outputId": "ef524b0c-1e03-49cc-954b-5de8ca8965da"
      },
      "execution_count": 33,
      "outputs": [
        {
          "output_type": "stream",
          "name": "stdout",
          "text": [
            "[[0 1 2 3]]\n",
            "[[0 1 2 3]\n",
            " [4 5 6 7]]\n",
            "[[0 1 2 3]\n",
            " [0 1 2 3]\n",
            " [4 5 6 7]]\n"
          ]
        }
      ]
    },
    {
      "cell_type": "code",
      "source": [
        "array = np.arange(8).reshape(2, 4)\n",
        "left, right = np.split(array, [2], axis=1)\n",
        "print(left.shape)\n",
        "print(right.shape)\n",
        "print(array)\n",
        "print(left)"
      ],
      "metadata": {
        "colab": {
          "base_uri": "https://localhost:8080/"
        },
        "id": "RIhFcjKVHcFX",
        "outputId": "d522aa38-26a1-43c7-f46a-caf840906543"
      },
      "execution_count": 38,
      "outputs": [
        {
          "output_type": "stream",
          "name": "stdout",
          "text": [
            "(2, 2)\n",
            "(2, 2)\n",
            "[[0 1 2 3]\n",
            " [4 5 6 7]]\n",
            "[[0 1]\n",
            " [4 5]]\n"
          ]
        }
      ]
    },
    {
      "cell_type": "code",
      "source": [
        "array = np.random.randint(1, 10, size=4).reshape(2, 2)\n",
        "print(array)"
      ],
      "metadata": {
        "colab": {
          "base_uri": "https://localhost:8080/"
        },
        "id": "uZdcuykQHyFp",
        "outputId": "3eaa1137-6168-427b-a78a-58b674630a02"
      },
      "execution_count": 41,
      "outputs": [
        {
          "output_type": "stream",
          "name": "stdout",
          "text": [
            "[[8 1]\n",
            " [6 2]]\n"
          ]
        }
      ]
    },
    {
      "cell_type": "code",
      "source": [
        "result_array = array * 10\n",
        "print(result_array)"
      ],
      "metadata": {
        "colab": {
          "base_uri": "https://localhost:8080/"
        },
        "id": "SvbnBo2LIwYW",
        "outputId": "d7d2aaa5-1a70-4866-d70c-deb3bfc64fec"
      },
      "execution_count": 43,
      "outputs": [
        {
          "output_type": "stream",
          "name": "stdout",
          "text": [
            "[[80 10]\n",
            " [60 20]]\n"
          ]
        }
      ]
    },
    {
      "cell_type": "code",
      "source": [
        "array1 = np.arange(4).reshape(2, 2)\n",
        "array2 = np.arange(2)\n",
        "\n",
        "array3 = array1 + array2\n",
        "print(array3)"
      ],
      "metadata": {
        "colab": {
          "base_uri": "https://localhost:8080/"
        },
        "id": "VoAHMCvZIpCe",
        "outputId": "f052e2fe-1ff5-4978-f30f-14838902fd7a"
      },
      "execution_count": 45,
      "outputs": [
        {
          "output_type": "stream",
          "name": "stdout",
          "text": [
            "[[0 2]\n",
            " [2 4]]\n"
          ]
        }
      ]
    },
    {
      "cell_type": "code",
      "source": [
        "array1 = np.arange(0, 8).reshape(2, 4)\n",
        "array2 = np.arange(0, 8).reshape(2, 4)\n",
        "array3 = np.concatenate([array1, array2], axis=0)\n",
        "array4 = np.arange(0, 4).reshape(4, 1)\n",
        "\n",
        "print(array3+array4)"
      ],
      "metadata": {
        "colab": {
          "base_uri": "https://localhost:8080/"
        },
        "id": "ulL3Q-7TJLmJ",
        "outputId": "f5a32db6-7057-4881-8f77-d6e4b4556635"
      },
      "execution_count": 48,
      "outputs": [
        {
          "output_type": "stream",
          "name": "stdout",
          "text": [
            "[[ 0  1  2  3]\n",
            " [ 5  6  7  8]\n",
            " [ 2  3  4  5]\n",
            " [ 7  8  9 10]]\n"
          ]
        }
      ]
    },
    {
      "cell_type": "code",
      "source": [
        "ar1 = np.arange(16).reshape(4, 4)\n",
        "print(ar1)\n",
        "\n",
        "ar2 = ar1 < 10\n",
        "print(ar2)\n",
        "\n",
        "ar1[ar2] = 100\n",
        "print(ar1)"
      ],
      "metadata": {
        "colab": {
          "base_uri": "https://localhost:8080/"
        },
        "id": "762Vm0wPJr0M",
        "outputId": "a1a1c247-d4e3-44e2-e31c-fa30e49b76d7"
      },
      "execution_count": 52,
      "outputs": [
        {
          "output_type": "stream",
          "name": "stdout",
          "text": [
            "[[ 0  1  2  3]\n",
            " [ 4  5  6  7]\n",
            " [ 8  9 10 11]\n",
            " [12 13 14 15]]\n",
            "[[ True  True  True  True]\n",
            " [ True  True  True  True]\n",
            " [ True  True False False]\n",
            " [False False False False]]\n",
            "[[100 100 100 100]\n",
            " [100 100 100 100]\n",
            " [100 100  10  11]\n",
            " [ 12  13  14  15]]\n"
          ]
        }
      ]
    },
    {
      "cell_type": "code",
      "source": [
        "ar1 = np.arange(16).reshape(4, 4)\n",
        "print(\"최대값: \", np.max(ar1))\n",
        "print(\"최소값: \", np.min(ar1))\n",
        "print(\"합계: \", np.sum(ar1))\n",
        "print(\"평균값: \", np.mean(ar1))\n",
        "\n",
        "print(\"합계: \", np.sum(ar1, axis=0))"
      ],
      "metadata": {
        "colab": {
          "base_uri": "https://localhost:8080/"
        },
        "id": "HjXzW4aAKAUS",
        "outputId": "e28fdc64-9941-42e4-db85-e3cfe10b28d1"
      },
      "execution_count": 55,
      "outputs": [
        {
          "output_type": "stream",
          "name": "stdout",
          "text": [
            "최대값:  15\n",
            "최소값:  0\n",
            "합계:  120\n",
            "평균값:  7.5\n",
            "합계:  [24 28 32 36]\n"
          ]
        }
      ]
    },
    {
      "cell_type": "code",
      "source": [
        "array = np.arange(0, 10)\n",
        "np.save('saved.npy', array)\n",
        "\n",
        "result = np.load('saved.npy')\n",
        "print(result)"
      ],
      "metadata": {
        "colab": {
          "base_uri": "https://localhost:8080/"
        },
        "id": "64IBoxmyKhT5",
        "outputId": "ef03f31b-eb99-498e-d9c3-d4db52a26016"
      },
      "execution_count": 58,
      "outputs": [
        {
          "output_type": "stream",
          "name": "stdout",
          "text": [
            "[0 1 2 3 4 5 6 7 8 9]\n"
          ]
        }
      ]
    },
    {
      "cell_type": "code",
      "source": [
        "array1 = np.arange(0, 10)\n",
        "array2 = np.arange(10, 20)\n",
        "np.savez('saved.npz', array1=array1, array2=array2)\n",
        "\n",
        "data = np.load('saved.npz')\n",
        "result1 = data['array1']\n",
        "result2 = data['array2']\n",
        "print(result1)\n",
        "print(result2)"
      ],
      "metadata": {
        "colab": {
          "base_uri": "https://localhost:8080/"
        },
        "id": "0Y_2dpRgJg5j",
        "outputId": "b3296d5c-069e-4c64-a614-3b46516d59f8"
      },
      "execution_count": 61,
      "outputs": [
        {
          "output_type": "stream",
          "name": "stdout",
          "text": [
            "[0 1 2 3 4 5 6 7 8 9]\n",
            "[10 11 12 13 14 15 16 17 18 19]\n"
          ]
        }
      ]
    },
    {
      "cell_type": "code",
      "source": [
        "array = np.array([5, 9, 10, 3, 1])\n",
        "array.sort()\n",
        "print(array)"
      ],
      "metadata": {
        "colab": {
          "base_uri": "https://localhost:8080/"
        },
        "id": "I3PdiPBGL-br",
        "outputId": "d3a26de8-ab93-4277-f33c-379f5ad83479"
      },
      "execution_count": 64,
      "outputs": [
        {
          "output_type": "stream",
          "name": "stdout",
          "text": [
            "[ 1  3  5  9 10]\n"
          ]
        }
      ]
    },
    {
      "cell_type": "code",
      "source": [
        "array = np.array([[5, 9, 10, 3, 1],[8, 3, 4, 2, 5]])\n",
        "print(array)\n",
        "array.sort(axis=0)\n",
        "print(array)"
      ],
      "metadata": {
        "colab": {
          "base_uri": "https://localhost:8080/"
        },
        "id": "6pWsv_EWMO7b",
        "outputId": "3287637d-7be4-4cca-90fd-dfc204e41476"
      },
      "execution_count": 69,
      "outputs": [
        {
          "output_type": "stream",
          "name": "stdout",
          "text": [
            "[[ 5  9 10  3  1]\n",
            " [ 8  3  4  2  5]]\n",
            "[[ 5  3  4  2  1]\n",
            " [ 8  9 10  3  5]]\n"
          ]
        }
      ]
    },
    {
      "cell_type": "code",
      "source": [
        "array = np.linspace(0, 10, 5)\n",
        "print(array)\n",
        "\n",
        "np.random.seed(7)\n",
        "print(np.random.randint(0, 10, (2, 3)))"
      ],
      "metadata": {
        "colab": {
          "base_uri": "https://localhost:8080/"
        },
        "id": "rJxINkfeMng-",
        "outputId": "cec1b386-7cad-4b2b-ddea-f24e10e86397"
      },
      "execution_count": 73,
      "outputs": [
        {
          "output_type": "stream",
          "name": "stdout",
          "text": [
            "[ 0.   2.5  5.   7.5 10. ]\n",
            "[[4 9 6]\n",
            " [3 3 7]]\n"
          ]
        }
      ]
    },
    {
      "cell_type": "code",
      "source": [
        "ar1 = np.arange(0, 10)\n",
        "ar2 = ar1.copy()\n",
        "ar2[0] = 99\n",
        "print(ar1)"
      ],
      "metadata": {
        "colab": {
          "base_uri": "https://localhost:8080/"
        },
        "id": "gA-5bpR8M_N6",
        "outputId": "5b70780e-3163-4240-9316-5386fdec65e9"
      },
      "execution_count": 75,
      "outputs": [
        {
          "output_type": "stream",
          "name": "stdout",
          "text": [
            "[0 1 2 3 4 5 6 7 8 9]\n"
          ]
        }
      ]
    },
    {
      "cell_type": "code",
      "source": [
        "array = np.array([1, 1, 2, 2, 2, 3, 3, 4])\n",
        "print(np.unique(array))"
      ],
      "metadata": {
        "colab": {
          "base_uri": "https://localhost:8080/"
        },
        "id": "FZFLCfGHNOvr",
        "outputId": "e7916261-59af-43b1-d6b8-be7495f6dab5"
      },
      "execution_count": 76,
      "outputs": [
        {
          "output_type": "stream",
          "name": "stdout",
          "text": [
            "[1 2 3 4]\n"
          ]
        }
      ]
    },
    {
      "cell_type": "code",
      "source": [
        ""
      ],
      "metadata": {
        "id": "qYnupNsaMxYt"
      },
      "execution_count": null,
      "outputs": []
    }
  ]
}