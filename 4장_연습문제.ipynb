{
  "nbformat": 4,
  "nbformat_minor": 0,
  "metadata": {
    "colab": {
      "name": "4장 연습문제.ipynb",
      "provenance": [],
      "collapsed_sections": [],
      "authorship_tag": "ABX9TyOJIx/N40Nc7lCdQh9LTMFX",
      "include_colab_link": true
    },
    "kernelspec": {
      "name": "python3",
      "display_name": "Python 3"
    },
    "language_info": {
      "name": "python"
    }
  },
  "cells": [
    {
      "cell_type": "markdown",
      "metadata": {
        "id": "view-in-github",
        "colab_type": "text"
      },
      "source": [
        "<a href=\"https://colab.research.google.com/github/dongju12/python/blob/main/4%EC%9E%A5_%EC%97%B0%EC%8A%B5%EB%AC%B8%EC%A0%9C.ipynb\" target=\"_parent\"><img src=\"https://colab.research.google.com/assets/colab-badge.svg\" alt=\"Open In Colab\"/></a>"
      ]
    },
    {
      "cell_type": "code",
      "execution_count": null,
      "metadata": {
        "id": "ESplHZT8UaBJ",
        "colab": {
          "base_uri": "https://localhost:8080/"
        },
        "outputId": "c59ce0a3-c409-41a3-b612-8dc902f9a34b"
      },
      "outputs": [
        {
          "output_type": "execute_result",
          "data": {
            "text/plain": [
              "(True, False)"
            ]
          },
          "metadata": {},
          "execution_count": 5
        }
      ],
      "source": [
        "def is_odd(number):\n",
        "  if number % 2 ==1 :\n",
        "    return True\n",
        "  else:\n",
        "    return False\n",
        "\n",
        "is_odd(3), is_odd(4)  "
      ]
    },
    {
      "cell_type": "code",
      "source": [
        "is_odd = lambda x: True if x % 2 == 1 else False\n",
        "is_odd(3)"
      ],
      "metadata": {
        "colab": {
          "base_uri": "https://localhost:8080/"
        },
        "id": "tEUQd_f8vfN-",
        "outputId": "b59d95a1-2889-427c-fc67-d37a27c465e6"
      },
      "execution_count": null,
      "outputs": [
        {
          "output_type": "execute_result",
          "data": {
            "text/plain": [
              "True"
            ]
          },
          "metadata": {},
          "execution_count": 9
        }
      ]
    },
    {
      "cell_type": "code",
      "source": [
        "def avg_numbers(*args):\n",
        "  result = 0\n",
        "  for i in args:\n",
        "    result += i\n",
        "  return result / len(args)\n",
        "\n",
        "avg_numbers(2,3,4)    "
      ],
      "metadata": {
        "colab": {
          "base_uri": "https://localhost:8080/"
        },
        "id": "w2aH-0z2vr7j",
        "outputId": "4403588e-3f91-4f55-940f-c5628d793439"
      },
      "execution_count": null,
      "outputs": [
        {
          "output_type": "execute_result",
          "data": {
            "text/plain": [
              "3.0"
            ]
          },
          "metadata": {},
          "execution_count": 12
        }
      ]
    },
    {
      "cell_type": "code",
      "source": [
        "input1 = input(\"첫 번째 숫자를 입력하세요 :\")\n",
        "input2 = input(\"두 번째 숫자를 입력하세요 :\")\n",
        "\n",
        "total = int(input1) + int(input2)\n",
        "print(\"두수의 합은 %s 입니다\" % total)"
      ],
      "metadata": {
        "colab": {
          "base_uri": "https://localhost:8080/"
        },
        "id": "NJk8W1a8wKO2",
        "outputId": "35686a1a-23f1-43e6-9389-4a79f699ccb3"
      },
      "execution_count": null,
      "outputs": [
        {
          "output_type": "stream",
          "name": "stdout",
          "text": [
            "첫 번째 숫자를 입력하세요 :3\n",
            "두 번째 숫자를 입력하세요 :2\n",
            "두수의 합은 5 입니다\n"
          ]
        }
      ]
    },
    {
      "cell_type": "code",
      "source": [
        "print(\"you\" \"need\" \"python\")\n"
      ],
      "metadata": {
        "id": "famo5saqwlCm",
        "colab": {
          "base_uri": "https://localhost:8080/"
        },
        "outputId": "41fb384c-be28-495e-cfa3-e65b69fb4e6c"
      },
      "execution_count": null,
      "outputs": [
        {
          "output_type": "stream",
          "name": "stdout",
          "text": [
            "youneedpython\n"
          ]
        }
      ]
    },
    {
      "cell_type": "code",
      "source": [
        "print(\"you\"+\"need\"+\"python\")"
      ],
      "metadata": {
        "colab": {
          "base_uri": "https://localhost:8080/"
        },
        "id": "X0_XhKnRZnXd",
        "outputId": "4d6c572e-80ef-4336-c88f-d6fd86b27b42"
      },
      "execution_count": null,
      "outputs": [
        {
          "output_type": "stream",
          "name": "stdout",
          "text": [
            "youneedpython\n"
          ]
        }
      ]
    },
    {
      "cell_type": "code",
      "source": [
        "print(\"you\", \"need\", \"python\")"
      ],
      "metadata": {
        "colab": {
          "base_uri": "https://localhost:8080/"
        },
        "id": "ZoK3xTHqZy-l",
        "outputId": "4317ab57-ab21-4297-d076-254546d6e6b1"
      },
      "execution_count": null,
      "outputs": [
        {
          "output_type": "stream",
          "name": "stdout",
          "text": [
            "you need python\n"
          ]
        }
      ]
    },
    {
      "cell_type": "code",
      "source": [
        "print(\"\".join([\"you\", \"need\", \"python\"]))"
      ],
      "metadata": {
        "colab": {
          "base_uri": "https://localhost:8080/"
        },
        "id": "I6fyODPLZ2Ac",
        "outputId": "41a55b31-4fae-4243-9765-edcc02221404"
      },
      "execution_count": null,
      "outputs": [
        {
          "output_type": "stream",
          "name": "stdout",
          "text": [
            "youneedpython\n"
          ]
        }
      ]
    },
    {
      "cell_type": "code",
      "source": [
        "user_input = input(\"저장할 내용을 입력하세요:\")\n",
        "f =  open('test.txt', 'a')\n",
        "f.write(user_input)\n",
        "f.write(\"\\n\")\n",
        "f.close()"
      ],
      "metadata": {
        "colab": {
          "base_uri": "https://localhost:8080/"
        },
        "id": "UoOH1RefaD9Q",
        "outputId": "02ea9476-4d87-4f59-ba11-3b03d28c75e9"
      },
      "execution_count": null,
      "outputs": [
        {
          "name": "stdout",
          "output_type": "stream",
          "text": [
            "저장할 내용을 입력하세요:오오\n"
          ]
        }
      ]
    },
    {
      "cell_type": "code",
      "source": [
        ""
      ],
      "metadata": {
        "id": "4TV-mOJRc05s"
      },
      "execution_count": null,
      "outputs": []
    },
    {
      "cell_type": "code",
      "source": [
        ""
      ],
      "metadata": {
        "id": "f61n9s_scsE-"
      },
      "execution_count": null,
      "outputs": []
    }
  ]
}